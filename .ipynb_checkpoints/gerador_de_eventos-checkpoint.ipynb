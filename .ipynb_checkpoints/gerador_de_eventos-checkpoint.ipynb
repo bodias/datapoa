{
 "cells": [
  {
   "cell_type": "code",
   "execution_count": 27,
   "metadata": {},
   "outputs": [],
   "source": [
    "import requests\n",
    "import sys\n",
    "import json\n",
    "from datetime import datetime\n",
    "import time\n",
    "from random import *\n",
    "from elasticsearch import Elasticsearch\n",
    "import numpy as np\n",
    "\n",
    "MIN_REFRESH_INTERVAL = 3\n",
    "MAX_REFRESH_INTERVAL = 10\n",
    "\n",
    "fator_freq_min = [0.05,0.01,0.005,0,0,0.3,0.50,0.8,0.9,0.9,0.80,0.70,0.8,0.80,0.7,0.7,0.60,0.85,0.9,0.9,0.9,0.7,0.60,0.4]\n",
    "fator_freq_max = [0.1 ,0.05,0.01 ,0,0,0.4,0.70,0.9,1.0,1.0,0.99,0.85,0.9,0.95,0.8,0.8,0.75,0.95,1.0,1.0,1.0,0.8,0.75,0.6]\n",
    "\n",
    "empresas = ['CARRIS','MOB','VIA LESTE','MAIS','VIVA SUL']"
   ]
  },
  {
   "cell_type": "code",
   "execution_count": 28,
   "metadata": {},
   "outputs": [],
   "source": [
    "def cria_carro(linhas,idcarro,hora):\n",
    "    #seleciona uma linha de forma aleatoria\n",
    "    linha_selecionada = int(round( uniform(0,len(linhas)-1)))\n",
    "    \n",
    "    print('criando novo carro na linha {} id {}'.format(linhas[linha_selecionada]['nome'],idcarro))\n",
    "    # carro é a informação da linha + enriquecimento\n",
    "    carro = linhas[linha_selecionada].copy()\n",
    "    \n",
    "    carro['ts'] = time.time()\n",
    "    carro['datahora'] = datetime.strftime(datetime.utcnow(),\"%Y-%m-%d %H:%M:%S\")  \n",
    "    carro['idcarro'] = idcarro\n",
    "    carro['empresa'] = empresas[int(round(uniform(0,len(empresas)-1)))]\n",
    "    carro['acessivel'] = uniform(0,1) < 0.3\n",
    "    #minutos\n",
    "    carro['tempo_viagem'] = round(uniform(0,120))    \n",
    "    \n",
    "    carro['total_passageiros_meia'] = int(round(fator_freq_max[hora-1] * 0.3 * 50 * hora))\n",
    "    carro['total_passageiros_isento'] = int(round(fator_freq_max[hora-1] * 0.1 * 50 * hora))\n",
    "    carro['total_passageiros_integral'] = int(round(fator_freq_max[hora-1] * 0.6 * 50 * hora))\n",
    "    carro['total_passageiros'] = carro['total_passageiros_meia'] + \\\n",
    "                                 carro['total_passageiros_isento'] + \\\n",
    "                                 carro['total_passageiros_integral']      \n",
    "    \n",
    "    carro['total_passageiros_hora_meia'] = int(round(fator_freq_max[hora-1] * 0.3 * 50))\n",
    "    carro['total_passageiros_hora_isento'] = int(round(fator_freq_max[hora-1] * 0.1 * 50))\n",
    "    carro['total_passageiros_hora_integral'] = int(round(fator_freq_max[hora-1] * 0.6 * 50))\n",
    "    carro['total_passageiros_hora'] = carro['total_passageiros_hora_meia'] + \\\n",
    "                                      carro['total_passageiros_hora_isento'] + \\\n",
    "                                      carro['total_passageiros_hora_integral']\n",
    "            \n",
    "    carro['lat'] = round(uniform(MNLAT,MXLAT),6) \n",
    "    carro['lng'] = round(uniform(MNLON,MXLON),6)   \n",
    "    \n",
    "    return carro"
   ]
  },
  {
   "cell_type": "code",
   "execution_count": 29,
   "metadata": {},
   "outputs": [],
   "source": [
    "resp = requests.get('http://www.poatransporte.com.br/php/facades/process.php?a=nc&p=%&t=o')\n",
    "\n",
    "if resp.status_code != 200:\n",
    "    # This means something went wrong.\n",
    "    raise ApiError('GET /tasks/ {}'.format(resp.status_code))\n",
    "\n",
    "linhas = resp.json()\n",
    "\n",
    "tbl_horaria_frequencia = []\n",
    "for i in range(0,24):\n",
    "    tbl_horaria_frequencia.append({'min': int(round(len(linhas) * fator_freq_min[i])), \\\n",
    "                                   'max': int(round(len(linhas) * fator_freq_max[i])) })"
   ]
  },
  {
   "cell_type": "code",
   "execution_count": 30,
   "metadata": {},
   "outputs": [
    {
     "name": "stdout",
     "output_type": "stream",
     "text": [
      "data 2018-09-05 18:11:30\n",
      "Inicializando informações sobre carros...\n",
      "criando novo carro na linha AMAPA id 581\n",
      "criando novo carro na linha ALIMENTADORA RESTINGA/LOMBA/5UNIDADE id 90\n",
      "criando novo carro na linha GRUTINHA VIA AMAPA id 856\n",
      "criando novo carro na linha PINHEIRO/A.CARVALHO/ELEIÇÕES id 387\n",
      "criando novo carro na linha AGRONOMIA/A.CARVALHO/ELEIÇÕES id 332\n"
     ]
    }
   ],
   "source": [
    "## inicializa os carros para as linhas de forma randomica, com base na tabela de frequencia\n",
    "\n",
    "now = datetime.strftime(datetime.utcnow(),\"%Y-%m-%d %H:%M:%S\")  \n",
    "hora = int(datetime.strftime(datetime.utcnow(),\"%H\"))\n",
    "print(\"data {}\".format(now))\n",
    "\n",
    "idcarros = np.random.permutation(tbl_horaria_frequencia[hora-1]['max'])\n",
    "\n",
    "min_carros_hora = tbl_horaria_frequencia[hora-1]['min']\n",
    "max_carros_hora = tbl_horaria_frequencia[hora-1]['max']\n",
    "total_carros_hora = int(round(uniform(min_carros_hora,max_carros_hora)))\n",
    "total_carros_hora = 5 #temporario para teste\n",
    "\n",
    "#canto inferior esquerdo\n",
    "MXLAT = -30.14296222668432 #-30.024661 #\n",
    "MXLON = -51.87917968750003#-51.187275 #\n",
    "#canto superior direito\n",
    "MNLAT = -29.79200328961529#-30.019115 #\n",
    "MNLON = -50.56082031250003#-51.180291 #\n",
    "\n",
    "print(\"Inicializando informações sobre carros...\")\n",
    "carros = []\n",
    "for i in range(0,total_carros_hora):\n",
    "    idcarro = idcarros[i].item() #para converter para um tipo nativo do python     \n",
    "    carro = cria_carro(linhas,idcarro,hora)\n",
    "    carros.append(carro)\n"
   ]
  },
  {
   "cell_type": "code",
   "execution_count": 31,
   "metadata": {},
   "outputs": [],
   "source": [
    "def executa_gerador(elastic):\n",
    "    while(True):\n",
    "        \n",
    "        SLEEP_INTERVAL = int(round(uniform(MIN_REFRESH_INTERVAL,MAX_REFRESH_INTERVAL)))\n",
    "\n",
    "        hora = int(datetime.strftime(datetime.utcnow(),\"%H\")  )\n",
    "        \n",
    "        #for carro in carros:\n",
    "        carro = carros[int(round(uniform(0,len(carros)-1)))]    \n",
    "            \n",
    "        carro['ts'] = time.time()\n",
    "        carro['datahora'] = datetime.strftime(datetime.utcnow(),\"%Y-%m-%d %H:%M:%S\")  \n",
    "        #minutos\n",
    "        carro['tempo_viagem'] += SLEEP_INTERVAL  \n",
    "        novos_passageiros = int(round(uniform(1,SLEEP_INTERVAL)))\n",
    "\n",
    "        inc_meia = int(round(fator_freq_max[hora-1] * 0.3 * novos_passageiros))\n",
    "        inc_isento = int(round(fator_freq_max[hora-1] * 0.1 * novos_passageiros))\n",
    "        inc_integral = int(round(fator_freq_max[hora-1] * 0.6 * novos_passageiros))\n",
    "\n",
    "        carro['total_passageiros_hora_meia'] += inc_meia\n",
    "        carro['total_passageiros_hora_isento'] += inc_isento\n",
    "        carro['total_passageiros_hora_integral'] += inc_integral\n",
    "        carro['total_passageiros_hora'] = carro['total_passageiros_hora_meia'] + \\\n",
    "                                          carro['total_passageiros_hora_isento'] + \\\n",
    "                                          carro['total_passageiros_hora_integral']\n",
    "\n",
    "        carro['total_passageiros_meia'] += inc_meia\n",
    "        carro['total_passageiros_isento'] += inc_isento\n",
    "        carro['total_passageiros_integral'] += inc_integral\n",
    "        carro['total_passageiros'] = carro['total_passageiros_meia'] + \\\n",
    "                                     carro['total_passageiros_isento'] + \\\n",
    "                                     carro['total_passageiros_integral']      \n",
    "\n",
    "\n",
    "        carro['lat'] = round(uniform(MNLAT,MXLAT),6) \n",
    "        carro['lng'] = round(uniform(MNLON,MXLON),6)  \n",
    "\n",
    "        time.sleep(SLEEP_INTERVAL)\n",
    "        print(carro)\n",
    "        \n",
    "        elastic.index(index=\"paradas_index\",\n",
    "             doc_type=\"json\",\n",
    "             body=carro,\n",
    "             ignore=400)\n",
    "\n",
    "        #cria/destroi carros aleatoriamente\n",
    "        if(uniform(0,1) < 0.1):\n",
    "            if(uniform(0,1) <= 0.5):\n",
    "                print('removendo carro...')\n",
    "                carros.remove(carros[int(round(uniform(0,len(carros)-1)))])\n",
    "            else:\n",
    "                idcarro = (np.max(idcarros) + 1).item()\n",
    "                novo_carro = cria_carro(linhas,idcarro,hora)\n",
    "                carros.append(novo_carro)\n",
    "                \n"
   ]
  },
  {
   "cell_type": "code",
   "execution_count": 32,
   "metadata": {},
   "outputs": [
    {
     "name": "stdout",
     "output_type": "stream",
     "text": [
      "{'id': '5150', 'codigo': '3988-1', 'nome': 'PINHEIRO/A.CARVALHO/ELEIÇÕES', 'ts': 1536181905.149308, 'datahora': '2018-09-05 18:11:45', 'idcarro': 387, 'empresa': 'MOB', 'acessivel': False, 'tempo_viagem': 58, 'total_passageiros_meia': 256, 'total_passageiros_isento': 86, 'total_passageiros_integral': 514, 'total_passageiros': 856, 'total_passageiros_hora_meia': 14, 'total_passageiros_hora_isento': 5, 'total_passageiros_hora_integral': 29, 'total_passageiros_hora': 48, 'lat': -29.929982, 'lng': -50.573597}\n",
      "{'id': '5243', 'codigo': 'A141-2', 'nome': 'ALIMENTADORA RESTINGA/LOMBA/5UNIDADE', 'ts': 1536181913.2087946, 'datahora': '2018-09-05 18:11:53', 'idcarro': 90, 'empresa': 'VIVA SUL', 'acessivel': False, 'tempo_viagem': 111, 'total_passageiros_meia': 258, 'total_passageiros_isento': 87, 'total_passageiros_integral': 518, 'total_passageiros': 863, 'total_passageiros_hora_meia': 16, 'total_passageiros_hora_isento': 6, 'total_passageiros_hora_integral': 33, 'total_passageiros_hora': 55, 'lat': -29.808408, 'lng': -51.399006}\n",
      "{'id': '5118', 'codigo': '3758-1', 'nome': 'AGRONOMIA/A.CARVALHO/ELEIÇÕES', 'ts': 1536181921.2466273, 'datahora': '2018-09-05 18:12:01', 'idcarro': 332, 'empresa': 'MAIS', 'acessivel': False, 'tempo_viagem': 14, 'total_passageiros_meia': 257, 'total_passageiros_isento': 86, 'total_passageiros_integral': 515, 'total_passageiros': 858, 'total_passageiros_hora_meia': 15, 'total_passageiros_hora_isento': 5, 'total_passageiros_hora_integral': 30, 'total_passageiros_hora': 50, 'lat': -30.073085, 'lng': -50.947974}\n",
      "{'id': '5243', 'codigo': 'A141-2', 'nome': 'ALIMENTADORA RESTINGA/LOMBA/5UNIDADE', 'ts': 1536181926.3070889, 'datahora': '2018-09-05 18:12:06', 'idcarro': 90, 'empresa': 'VIVA SUL', 'acessivel': False, 'tempo_viagem': 120, 'total_passageiros_meia': 260, 'total_passageiros_isento': 88, 'total_passageiros_integral': 521, 'total_passageiros': 869, 'total_passageiros_hora_meia': 18, 'total_passageiros_hora_isento': 7, 'total_passageiros_hora_integral': 36, 'total_passageiros_hora': 61, 'lat': -30.02329, 'lng': -50.786442}\n",
      "{'id': '5830', 'codigo': '2701-1', 'nome': 'GRUTINHA VIA AMAPA', 'ts': 1536181935.3306131, 'datahora': '2018-09-05 18:12:15', 'idcarro': 856, 'empresa': 'CARRIS', 'acessivel': False, 'tempo_viagem': 32, 'total_passageiros_meia': 257, 'total_passageiros_isento': 86, 'total_passageiros_integral': 515, 'total_passageiros': 858, 'total_passageiros_hora_meia': 15, 'total_passageiros_hora_isento': 5, 'total_passageiros_hora_integral': 30, 'total_passageiros_hora': 50, 'lat': -30.083104, 'lng': -50.630166}\n",
      "criando novo carro na linha OTTO/HPS/3ª PERIMETRAL id 934\n",
      "{'id': '5118', 'codigo': '3758-1', 'nome': 'AGRONOMIA/A.CARVALHO/ELEIÇÕES', 'ts': 1536181942.3497286, 'datahora': '2018-09-05 18:12:22', 'idcarro': 332, 'empresa': 'MAIS', 'acessivel': False, 'tempo_viagem': 18, 'total_passageiros_meia': 257, 'total_passageiros_isento': 86, 'total_passageiros_integral': 516, 'total_passageiros': 859, 'total_passageiros_hora_meia': 15, 'total_passageiros_hora_isento': 5, 'total_passageiros_hora_integral': 31, 'total_passageiros_hora': 51, 'lat': -29.989837, 'lng': -51.839004}\n",
      "{'id': '5830', 'codigo': '2701-1', 'nome': 'GRUTINHA VIA AMAPA', 'ts': 1536181946.3948853, 'datahora': '2018-09-05 18:12:26', 'idcarro': 856, 'empresa': 'CARRIS', 'acessivel': False, 'tempo_viagem': 40, 'total_passageiros_meia': 258, 'total_passageiros_isento': 86, 'total_passageiros_integral': 516, 'total_passageiros': 860, 'total_passageiros_hora_meia': 16, 'total_passageiros_hora_isento': 5, 'total_passageiros_hora_integral': 31, 'total_passageiros_hora': 52, 'lat': -29.884681, 'lng': -50.648182}\n",
      "{'id': '5411', 'codigo': '2802-2', 'nome': 'OTTO/HPS/3ª PERIMETRAL', 'ts': 1536181954.4289489, 'datahora': '2018-09-05 18:12:34', 'idcarro': 934, 'empresa': 'MAIS', 'acessivel': False, 'tempo_viagem': 123, 'total_passageiros_meia': 258, 'total_passageiros_isento': 87, 'total_passageiros_integral': 517, 'total_passageiros': 862, 'total_passageiros_hora_meia': 16, 'total_passageiros_hora_isento': 6, 'total_passageiros_hora_integral': 32, 'total_passageiros_hora': 54, 'lat': -29.858985, 'lng': -51.62236}\n",
      "{'id': '5118', 'codigo': '3758-1', 'nome': 'AGRONOMIA/A.CARVALHO/ELEIÇÕES', 'ts': 1536181962.4628978, 'datahora': '2018-09-05 18:12:42', 'idcarro': 332, 'empresa': 'MAIS', 'acessivel': False, 'tempo_viagem': 27, 'total_passageiros_meia': 258, 'total_passageiros_isento': 86, 'total_passageiros_integral': 518, 'total_passageiros': 862, 'total_passageiros_hora_meia': 16, 'total_passageiros_hora_isento': 5, 'total_passageiros_hora_integral': 33, 'total_passageiros_hora': 54, 'lat': -29.930541, 'lng': -51.456145}\n",
      "{'id': '5830', 'codigo': '2701-1', 'nome': 'GRUTINHA VIA AMAPA', 'ts': 1536181971.504601, 'datahora': '2018-09-05 18:12:51', 'idcarro': 856, 'empresa': 'CARRIS', 'acessivel': False, 'tempo_viagem': 48, 'total_passageiros_meia': 259, 'total_passageiros_isento': 86, 'total_passageiros_integral': 519, 'total_passageiros': 864, 'total_passageiros_hora_meia': 17, 'total_passageiros_hora_isento': 5, 'total_passageiros_hora_integral': 34, 'total_passageiros_hora': 56, 'lat': -29.794568, 'lng': -50.619208}\n",
      "{'id': '5830', 'codigo': '2701-1', 'nome': 'GRUTINHA VIA AMAPA', 'ts': 1536181979.548449, 'datahora': '2018-09-05 18:12:59', 'idcarro': 856, 'empresa': 'CARRIS', 'acessivel': False, 'tempo_viagem': 57, 'total_passageiros_meia': 260, 'total_passageiros_isento': 86, 'total_passageiros_integral': 520, 'total_passageiros': 866, 'total_passageiros_hora_meia': 18, 'total_passageiros_hora_isento': 5, 'total_passageiros_hora_integral': 35, 'total_passageiros_hora': 58, 'lat': -29.827692, 'lng': -50.904557}\n",
      "{'id': '5150', 'codigo': '3988-1', 'nome': 'PINHEIRO/A.CARVALHO/ELEIÇÕES', 'ts': 1536181988.552333, 'datahora': '2018-09-05 18:13:08', 'idcarro': 387, 'empresa': 'MOB', 'acessivel': False, 'tempo_viagem': 65, 'total_passageiros_meia': 258, 'total_passageiros_isento': 87, 'total_passageiros_integral': 518, 'total_passageiros': 863, 'total_passageiros_hora_meia': 16, 'total_passageiros_hora_isento': 6, 'total_passageiros_hora_integral': 33, 'total_passageiros_hora': 55, 'lat': -29.808135, 'lng': -51.013661}\n",
      "{'id': '5830', 'codigo': '2701-1', 'nome': 'GRUTINHA VIA AMAPA', 'ts': 1536181995.5687165, 'datahora': '2018-09-05 18:13:15', 'idcarro': 856, 'empresa': 'CARRIS', 'acessivel': False, 'tempo_viagem': 64, 'total_passageiros_meia': 261, 'total_passageiros_isento': 86, 'total_passageiros_integral': 523, 'total_passageiros': 870, 'total_passageiros_hora_meia': 19, 'total_passageiros_hora_isento': 5, 'total_passageiros_hora_integral': 38, 'total_passageiros_hora': 62, 'lat': -29.917989, 'lng': -51.501396}\n",
      "{'id': '5150', 'codigo': '3988-1', 'nome': 'PINHEIRO/A.CARVALHO/ELEIÇÕES', 'ts': 1536182002.6141613, 'datahora': '2018-09-05 18:13:22', 'idcarro': 387, 'empresa': 'MOB', 'acessivel': False, 'tempo_viagem': 72, 'total_passageiros_meia': 259, 'total_passageiros_isento': 87, 'total_passageiros_integral': 520, 'total_passageiros': 866, 'total_passageiros_hora_meia': 17, 'total_passageiros_hora_isento': 6, 'total_passageiros_hora_integral': 35, 'total_passageiros_hora': 58, 'lat': -29.906394, 'lng': -51.039486}\n",
      "{'id': '5118', 'codigo': '3758-1', 'nome': 'AGRONOMIA/A.CARVALHO/ELEIÇÕES', 'ts': 1536182009.646094, 'datahora': '2018-09-05 18:13:29', 'idcarro': 332, 'empresa': 'MAIS', 'acessivel': False, 'tempo_viagem': 30, 'total_passageiros_meia': 259, 'total_passageiros_isento': 86, 'total_passageiros_integral': 519, 'total_passageiros': 864, 'total_passageiros_hora_meia': 17, 'total_passageiros_hora_isento': 5, 'total_passageiros_hora_integral': 34, 'total_passageiros_hora': 56, 'lat': -29.920348, 'lng': -50.890872}\n",
      "{'id': '5150', 'codigo': '3988-1', 'nome': 'PINHEIRO/A.CARVALHO/ELEIÇÕES', 'ts': 1536182012.6862512, 'datahora': '2018-09-05 18:13:32', 'idcarro': 387, 'empresa': 'MOB', 'acessivel': False, 'tempo_viagem': 75, 'total_passageiros_meia': 259, 'total_passageiros_isento': 87, 'total_passageiros_integral': 521, 'total_passageiros': 867, 'total_passageiros_hora_meia': 17, 'total_passageiros_hora_isento': 6, 'total_passageiros_hora_integral': 36, 'total_passageiros_hora': 59, 'lat': -29.80401, 'lng': -50.944783}\n"
     ]
    },
    {
     "name": "stdout",
     "output_type": "stream",
     "text": [
      "{'id': '5243', 'codigo': 'A141-2', 'nome': 'ALIMENTADORA RESTINGA/LOMBA/5UNIDADE', 'ts': 1536182015.7244172, 'datahora': '2018-09-05 18:13:35', 'idcarro': 90, 'empresa': 'VIVA SUL', 'acessivel': False, 'tempo_viagem': 127, 'total_passageiros_meia': 261, 'total_passageiros_isento': 88, 'total_passageiros_integral': 523, 'total_passageiros': 872, 'total_passageiros_hora_meia': 19, 'total_passageiros_hora_isento': 7, 'total_passageiros_hora_integral': 38, 'total_passageiros_hora': 64, 'lat': -29.794875, 'lng': -51.253099}\n",
      "{'id': '5243', 'codigo': 'A141-2', 'nome': 'ALIMENTADORA RESTINGA/LOMBA/5UNIDADE', 'ts': 1536182022.7414215, 'datahora': '2018-09-05 18:13:42', 'idcarro': 90, 'empresa': 'VIVA SUL', 'acessivel': False, 'tempo_viagem': 132, 'total_passageiros_meia': 262, 'total_passageiros_isento': 88, 'total_passageiros_integral': 526, 'total_passageiros': 876, 'total_passageiros_hora_meia': 20, 'total_passageiros_hora_isento': 7, 'total_passageiros_hora_integral': 41, 'total_passageiros_hora': 68, 'lat': -30.007028, 'lng': -50.692213}\n",
      "{'id': '5830', 'codigo': '2701-1', 'nome': 'GRUTINHA VIA AMAPA', 'ts': 1536182027.7860737, 'datahora': '2018-09-05 18:13:47', 'idcarro': 856, 'empresa': 'CARRIS', 'acessivel': False, 'tempo_viagem': 69, 'total_passageiros_meia': 262, 'total_passageiros_isento': 86, 'total_passageiros_integral': 524, 'total_passageiros': 872, 'total_passageiros_hora_meia': 20, 'total_passageiros_hora_isento': 5, 'total_passageiros_hora_integral': 39, 'total_passageiros_hora': 64, 'lat': -30.135395, 'lng': -51.257594}\n",
      "{'id': '5243', 'codigo': 'A141-2', 'nome': 'ALIMENTADORA RESTINGA/LOMBA/5UNIDADE', 'ts': 1536182032.8248153, 'datahora': '2018-09-05 18:13:52', 'idcarro': 90, 'empresa': 'VIVA SUL', 'acessivel': False, 'tempo_viagem': 140, 'total_passageiros_meia': 264, 'total_passageiros_isento': 89, 'total_passageiros_integral': 531, 'total_passageiros': 884, 'total_passageiros_hora_meia': 22, 'total_passageiros_hora_isento': 8, 'total_passageiros_hora_integral': 46, 'total_passageiros_hora': 76, 'lat': -30.116149, 'lng': -50.791095}\n",
      "{'id': '5243', 'codigo': 'A141-2', 'nome': 'ALIMENTADORA RESTINGA/LOMBA/5UNIDADE', 'ts': 1536182040.8644042, 'datahora': '2018-09-05 18:14:00', 'idcarro': 90, 'empresa': 'VIVA SUL', 'acessivel': False, 'tempo_viagem': 148, 'total_passageiros_meia': 265, 'total_passageiros_isento': 89, 'total_passageiros_integral': 534, 'total_passageiros': 888, 'total_passageiros_hora_meia': 23, 'total_passageiros_hora_isento': 8, 'total_passageiros_hora_integral': 49, 'total_passageiros_hora': 80, 'lat': -29.797535, 'lng': -51.725337}\n",
      "criando novo carro na linha GREVE T4 id 934\n",
      "{'id': '5830', 'codigo': '2701-1', 'nome': 'GRUTINHA VIA AMAPA', 'ts': 1536182048.8807352, 'datahora': '2018-09-05 18:14:08', 'idcarro': 856, 'empresa': 'CARRIS', 'acessivel': False, 'tempo_viagem': 79, 'total_passageiros_meia': 264, 'total_passageiros_isento': 87, 'total_passageiros_integral': 529, 'total_passageiros': 880, 'total_passageiros_hora_meia': 22, 'total_passageiros_hora_isento': 6, 'total_passageiros_hora_integral': 44, 'total_passageiros_hora': 72, 'lat': -29.925453, 'lng': -50.649406}\n",
      "{'id': '5243', 'codigo': 'A141-2', 'nome': 'ALIMENTADORA RESTINGA/LOMBA/5UNIDADE', 'ts': 1536182058.9346144, 'datahora': '2018-09-05 18:14:18', 'idcarro': 90, 'empresa': 'VIVA SUL', 'acessivel': False, 'tempo_viagem': 156, 'total_passageiros_meia': 266, 'total_passageiros_isento': 89, 'total_passageiros_integral': 537, 'total_passageiros': 892, 'total_passageiros_hora_meia': 24, 'total_passageiros_hora_isento': 8, 'total_passageiros_hora_integral': 52, 'total_passageiros_hora': 84, 'lat': -30.097886, 'lng': -50.622287}\n",
      "{'id': '5830', 'codigo': '2701-1', 'nome': 'GRUTINHA VIA AMAPA', 'ts': 1536182066.9744208, 'datahora': '2018-09-05 18:14:26', 'idcarro': 856, 'empresa': 'CARRIS', 'acessivel': False, 'tempo_viagem': 87, 'total_passageiros_meia': 266, 'total_passageiros_isento': 88, 'total_passageiros_integral': 532, 'total_passageiros': 886, 'total_passageiros_hora_meia': 24, 'total_passageiros_hora_isento': 7, 'total_passageiros_hora_integral': 47, 'total_passageiros_hora': 78, 'lat': -29.955968, 'lng': -51.701405}\n",
      "removendo carro...\n",
      "{'id': '5150', 'codigo': '3988-1', 'nome': 'PINHEIRO/A.CARVALHO/ELEIÇÕES', 'ts': 1536182074.9929297, 'datahora': '2018-09-05 18:14:34', 'idcarro': 387, 'empresa': 'MOB', 'acessivel': False, 'tempo_viagem': 80, 'total_passageiros_meia': 260, 'total_passageiros_isento': 87, 'total_passageiros_integral': 524, 'total_passageiros': 871, 'total_passageiros_hora_meia': 18, 'total_passageiros_hora_isento': 6, 'total_passageiros_hora_integral': 39, 'total_passageiros_hora': 63, 'lat': -30.020492, 'lng': -51.494524}\n",
      "{'id': '5243', 'codigo': 'A141-2', 'nome': 'ALIMENTADORA RESTINGA/LOMBA/5UNIDADE', 'ts': 1536182080.0373976, 'datahora': '2018-09-05 18:14:40', 'idcarro': 90, 'empresa': 'VIVA SUL', 'acessivel': False, 'tempo_viagem': 166, 'total_passageiros_meia': 269, 'total_passageiros_isento': 90, 'total_passageiros_integral': 542, 'total_passageiros': 901, 'total_passageiros_hora_meia': 27, 'total_passageiros_hora_isento': 9, 'total_passageiros_hora_integral': 57, 'total_passageiros_hora': 93, 'lat': -30.017147, 'lng': -51.422421}\n",
      "{'id': '5150', 'codigo': '3988-1', 'nome': 'PINHEIRO/A.CARVALHO/ELEIÇÕES', 'ts': 1536182090.0658493, 'datahora': '2018-09-05 18:14:50', 'idcarro': 387, 'empresa': 'MOB', 'acessivel': False, 'tempo_viagem': 84, 'total_passageiros_meia': 261, 'total_passageiros_isento': 87, 'total_passageiros_integral': 525, 'total_passageiros': 873, 'total_passageiros_hora_meia': 19, 'total_passageiros_hora_isento': 6, 'total_passageiros_hora_integral': 40, 'total_passageiros_hora': 65, 'lat': -30.093561, 'lng': -51.552823}\n",
      "{'id': '5243', 'codigo': 'A141-2', 'nome': 'ALIMENTADORA RESTINGA/LOMBA/5UNIDADE', 'ts': 1536182094.084778, 'datahora': '2018-09-05 18:14:54', 'idcarro': 90, 'empresa': 'VIVA SUL', 'acessivel': False, 'tempo_viagem': 176, 'total_passageiros_meia': 272, 'total_passageiros_isento': 91, 'total_passageiros_integral': 547, 'total_passageiros': 910, 'total_passageiros_hora_meia': 30, 'total_passageiros_hora_isento': 10, 'total_passageiros_hora_integral': 62, 'total_passageiros_hora': 102, 'lat': -29.942415, 'lng': -51.868298}\n",
      "{'id': '5243', 'codigo': 'A141-2', 'nome': 'ALIMENTADORA RESTINGA/LOMBA/5UNIDADE', 'ts': 1536182104.1308103, 'datahora': '2018-09-05 18:15:04', 'idcarro': 90, 'empresa': 'VIVA SUL', 'acessivel': False, 'tempo_viagem': 181, 'total_passageiros_meia': 273, 'total_passageiros_isento': 91, 'total_passageiros_integral': 548, 'total_passageiros': 912, 'total_passageiros_hora_meia': 31, 'total_passageiros_hora_isento': 10, 'total_passageiros_hora_integral': 63, 'total_passageiros_hora': 104, 'lat': -29.967228, 'lng': -51.209134}\n",
      "{'id': '5118', 'codigo': '3758-1', 'nome': 'AGRONOMIA/A.CARVALHO/ELEIÇÕES', 'ts': 1536182109.161789, 'datahora': '2018-09-05 18:15:09', 'idcarro': 332, 'empresa': 'MAIS', 'acessivel': False, 'tempo_viagem': 35, 'total_passageiros_meia': 260, 'total_passageiros_isento': 86, 'total_passageiros_integral': 521, 'total_passageiros': 867, 'total_passageiros_hora_meia': 18, 'total_passageiros_hora_isento': 5, 'total_passageiros_hora_integral': 36, 'total_passageiros_hora': 59, 'lat': -30.095622, 'lng': -50.668961}\n",
      "{'id': '5150', 'codigo': '3988-1', 'nome': 'PINHEIRO/A.CARVALHO/ELEIÇÕES', 'ts': 1536182114.1793027, 'datahora': '2018-09-05 18:15:14', 'idcarro': 387, 'empresa': 'MOB', 'acessivel': False, 'tempo_viagem': 89, 'total_passageiros_meia': 262, 'total_passageiros_isento': 87, 'total_passageiros_integral': 526, 'total_passageiros': 875, 'total_passageiros_hora_meia': 20, 'total_passageiros_hora_isento': 6, 'total_passageiros_hora_integral': 41, 'total_passageiros_hora': 67, 'lat': -29.867801, 'lng': -50.693217}\n",
      "{'id': '5874', 'codigo': 'GT4-2', 'nome': 'GREVE T4', 'ts': 1536182119.1931744, 'datahora': '2018-09-05 18:15:19', 'idcarro': 934, 'empresa': 'VIA LESTE', 'acessivel': False, 'tempo_viagem': 78, 'total_passageiros_meia': 259, 'total_passageiros_isento': 87, 'total_passageiros_integral': 518, 'total_passageiros': 864, 'total_passageiros_hora_meia': 17, 'total_passageiros_hora_isento': 6, 'total_passageiros_hora_integral': 33, 'total_passageiros_hora': 56, 'lat': -29.798731, 'lng': -51.165735}\n"
     ]
    },
    {
     "name": "stdout",
     "output_type": "stream",
     "text": [
      "{'id': '5150', 'codigo': '3988-1', 'nome': 'PINHEIRO/A.CARVALHO/ELEIÇÕES', 'ts': 1536182128.210711, 'datahora': '2018-09-05 18:15:28', 'idcarro': 387, 'empresa': 'MOB', 'acessivel': False, 'tempo_viagem': 94, 'total_passageiros_meia': 263, 'total_passageiros_isento': 87, 'total_passageiros_integral': 529, 'total_passageiros': 879, 'total_passageiros_hora_meia': 21, 'total_passageiros_hora_isento': 6, 'total_passageiros_hora_integral': 44, 'total_passageiros_hora': 71, 'lat': -30.103884, 'lng': -51.004381}\n",
      "{'id': '5118', 'codigo': '3758-1', 'nome': 'AGRONOMIA/A.CARVALHO/ELEIÇÕES', 'ts': 1536182133.2564986, 'datahora': '2018-09-05 18:15:33', 'idcarro': 332, 'empresa': 'MAIS', 'acessivel': False, 'tempo_viagem': 43, 'total_passageiros_meia': 262, 'total_passageiros_isento': 87, 'total_passageiros_integral': 524, 'total_passageiros': 873, 'total_passageiros_hora_meia': 20, 'total_passageiros_hora_isento': 6, 'total_passageiros_hora_integral': 39, 'total_passageiros_hora': 65, 'lat': -29.812818, 'lng': -50.641194}\n",
      "{'id': '5118', 'codigo': '3758-1', 'nome': 'AGRONOMIA/A.CARVALHO/ELEIÇÕES', 'ts': 1536182141.3030457, 'datahora': '2018-09-05 18:15:41', 'idcarro': 332, 'empresa': 'MAIS', 'acessivel': False, 'tempo_viagem': 49, 'total_passageiros_meia': 263, 'total_passageiros_isento': 87, 'total_passageiros_integral': 526, 'total_passageiros': 876, 'total_passageiros_hora_meia': 21, 'total_passageiros_hora_isento': 6, 'total_passageiros_hora_integral': 41, 'total_passageiros_hora': 68, 'lat': -30.11954, 'lng': -51.781442}\n",
      "{'id': '5118', 'codigo': '3758-1', 'nome': 'AGRONOMIA/A.CARVALHO/ELEIÇÕES', 'ts': 1536182147.3444118, 'datahora': '2018-09-05 18:15:47', 'idcarro': 332, 'empresa': 'MAIS', 'acessivel': False, 'tempo_viagem': 54, 'total_passageiros_meia': 264, 'total_passageiros_isento': 87, 'total_passageiros_integral': 528, 'total_passageiros': 879, 'total_passageiros_hora_meia': 22, 'total_passageiros_hora_isento': 6, 'total_passageiros_hora_integral': 43, 'total_passageiros_hora': 71, 'lat': -29.987532, 'lng': -51.13906}\n",
      "{'id': '5243', 'codigo': 'A141-2', 'nome': 'ALIMENTADORA RESTINGA/LOMBA/5UNIDADE', 'ts': 1536182152.381777, 'datahora': '2018-09-05 18:15:52', 'idcarro': 90, 'empresa': 'VIVA SUL', 'acessivel': False, 'tempo_viagem': 184, 'total_passageiros_meia': 274, 'total_passageiros_isento': 91, 'total_passageiros_integral': 549, 'total_passageiros': 914, 'total_passageiros_hora_meia': 32, 'total_passageiros_hora_isento': 10, 'total_passageiros_hora_integral': 64, 'total_passageiros_hora': 106, 'lat': -29.932869, 'lng': -51.712923}\n",
      "{'id': '5830', 'codigo': '2701-1', 'nome': 'GRUTINHA VIA AMAPA', 'ts': 1536182155.417503, 'datahora': '2018-09-05 18:15:55', 'idcarro': 856, 'empresa': 'CARRIS', 'acessivel': False, 'tempo_viagem': 96, 'total_passageiros_meia': 267, 'total_passageiros_isento': 88, 'total_passageiros_integral': 534, 'total_passageiros': 889, 'total_passageiros_hora_meia': 25, 'total_passageiros_hora_isento': 7, 'total_passageiros_hora_integral': 49, 'total_passageiros_hora': 81, 'lat': -30.036082, 'lng': -51.136049}\n",
      "criando novo carro na linha IPANEMA / CAVALHADA id 934\n",
      "{'id': '5243', 'codigo': 'A141-2', 'nome': 'ALIMENTADORA RESTINGA/LOMBA/5UNIDADE', 'ts': 1536182164.4591684, 'datahora': '2018-09-05 18:16:04', 'idcarro': 90, 'empresa': 'VIVA SUL', 'acessivel': False, 'tempo_viagem': 189, 'total_passageiros_meia': 274, 'total_passageiros_isento': 91, 'total_passageiros_integral': 550, 'total_passageiros': 915, 'total_passageiros_hora_meia': 32, 'total_passageiros_hora_isento': 10, 'total_passageiros_hora_integral': 65, 'total_passageiros_hora': 107, 'lat': -30.074591, 'lng': -50.569462}\n",
      "{'id': '5095', 'codigo': '283-1', 'nome': 'IPANEMA / CAVALHADA', 'ts': 1536182169.4910612, 'datahora': '2018-09-05 18:16:09', 'idcarro': 934, 'empresa': 'VIA LESTE', 'acessivel': False, 'tempo_viagem': 15, 'total_passageiros_meia': 257, 'total_passageiros_isento': 86, 'total_passageiros_integral': 514, 'total_passageiros': 857, 'total_passageiros_hora_meia': 15, 'total_passageiros_hora_isento': 5, 'total_passageiros_hora_integral': 29, 'total_passageiros_hora': 49, 'lat': -30.102799, 'lng': -51.245583}\n",
      "{'id': '5150', 'codigo': '3988-1', 'nome': 'PINHEIRO/A.CARVALHO/ELEIÇÕES', 'ts': 1536182173.5103412, 'datahora': '2018-09-05 18:16:13', 'idcarro': 387, 'empresa': 'MOB', 'acessivel': False, 'tempo_viagem': 101, 'total_passageiros_meia': 264, 'total_passageiros_isento': 87, 'total_passageiros_integral': 531, 'total_passageiros': 882, 'total_passageiros_hora_meia': 22, 'total_passageiros_hora_isento': 6, 'total_passageiros_hora_integral': 46, 'total_passageiros_hora': 74, 'lat': -29.999879, 'lng': -51.510658}\n",
      "{'id': '5118', 'codigo': '3758-1', 'nome': 'AGRONOMIA/A.CARVALHO/ELEIÇÕES', 'ts': 1536182180.5306606, 'datahora': '2018-09-05 18:16:20', 'idcarro': 332, 'empresa': 'MAIS', 'acessivel': False, 'tempo_viagem': 57, 'total_passageiros_meia': 265, 'total_passageiros_isento': 87, 'total_passageiros_integral': 529, 'total_passageiros': 881, 'total_passageiros_hora_meia': 23, 'total_passageiros_hora_isento': 6, 'total_passageiros_hora_integral': 44, 'total_passageiros_hora': 73, 'lat': -29.808413, 'lng': -50.820565}\n",
      "{'id': '5830', 'codigo': '2701-1', 'nome': 'GRUTINHA VIA AMAPA', 'ts': 1536182183.5683959, 'datahora': '2018-09-05 18:16:23', 'idcarro': 856, 'empresa': 'CARRIS', 'acessivel': False, 'tempo_viagem': 100, 'total_passageiros_meia': 268, 'total_passageiros_isento': 88, 'total_passageiros_integral': 535, 'total_passageiros': 891, 'total_passageiros_hora_meia': 26, 'total_passageiros_hora_isento': 7, 'total_passageiros_hora_integral': 50, 'total_passageiros_hora': 83, 'lat': -29.979676, 'lng': -51.063982}\n",
      "{'id': '5150', 'codigo': '3988-1', 'nome': 'PINHEIRO/A.CARVALHO/ELEIÇÕES', 'ts': 1536182187.6059651, 'datahora': '2018-09-05 18:16:27', 'idcarro': 387, 'empresa': 'MOB', 'acessivel': False, 'tempo_viagem': 111, 'total_passageiros_meia': 265, 'total_passageiros_isento': 87, 'total_passageiros_integral': 532, 'total_passageiros': 884, 'total_passageiros_hora_meia': 23, 'total_passageiros_hora_isento': 6, 'total_passageiros_hora_integral': 47, 'total_passageiros_hora': 76, 'lat': -30.115365, 'lng': -51.192613}\n"
     ]
    },
    {
     "ename": "KeyboardInterrupt",
     "evalue": "",
     "output_type": "error",
     "traceback": [
      "\u001b[1;31m---------------------------------------------------------------------------\u001b[0m",
      "\u001b[1;31mKeyboardInterrupt\u001b[0m                         Traceback (most recent call last)",
      "\u001b[1;32m<ipython-input-32-1d35b5c59bf2>\u001b[0m in \u001b[0;36m<module>\u001b[1;34m()\u001b[0m\n\u001b[0;32m      1\u001b[0m \u001b[0mes\u001b[0m \u001b[1;33m=\u001b[0m \u001b[0mElasticsearch\u001b[0m\u001b[1;33m(\u001b[0m\u001b[1;33m[\u001b[0m\u001b[1;33m{\u001b[0m\u001b[1;34m'host'\u001b[0m \u001b[1;33m:\u001b[0m \u001b[1;34m'127.0.0.1'\u001b[0m\u001b[1;33m,\u001b[0m \u001b[1;34m'port'\u001b[0m\u001b[1;33m:\u001b[0m\u001b[1;36m9200\u001b[0m\u001b[1;33m}\u001b[0m\u001b[1;33m]\u001b[0m\u001b[1;33m)\u001b[0m\u001b[1;33m\u001b[0m\u001b[0m\n\u001b[1;32m----> 2\u001b[1;33m \u001b[0mexecuta_gerador\u001b[0m\u001b[1;33m(\u001b[0m\u001b[0mes\u001b[0m\u001b[1;33m)\u001b[0m\u001b[1;33m\u001b[0m\u001b[0m\n\u001b[0m",
      "\u001b[1;32m<ipython-input-31-07e11437e0de>\u001b[0m in \u001b[0;36mexecuta_gerador\u001b[1;34m(elastic)\u001b[0m\n\u001b[0;32m     33\u001b[0m         \u001b[0mcarro\u001b[0m\u001b[1;33m[\u001b[0m\u001b[1;34m'lng'\u001b[0m\u001b[1;33m]\u001b[0m \u001b[1;33m=\u001b[0m \u001b[0mround\u001b[0m\u001b[1;33m(\u001b[0m\u001b[0muniform\u001b[0m\u001b[1;33m(\u001b[0m\u001b[0mMNLON\u001b[0m\u001b[1;33m,\u001b[0m\u001b[0mMXLON\u001b[0m\u001b[1;33m)\u001b[0m\u001b[1;33m,\u001b[0m\u001b[1;36m6\u001b[0m\u001b[1;33m)\u001b[0m\u001b[1;33m\u001b[0m\u001b[0m\n\u001b[0;32m     34\u001b[0m \u001b[1;33m\u001b[0m\u001b[0m\n\u001b[1;32m---> 35\u001b[1;33m         \u001b[0mtime\u001b[0m\u001b[1;33m.\u001b[0m\u001b[0msleep\u001b[0m\u001b[1;33m(\u001b[0m\u001b[0mSLEEP_INTERVAL\u001b[0m\u001b[1;33m)\u001b[0m\u001b[1;33m\u001b[0m\u001b[0m\n\u001b[0m\u001b[0;32m     36\u001b[0m         \u001b[0mprint\u001b[0m\u001b[1;33m(\u001b[0m\u001b[0mcarro\u001b[0m\u001b[1;33m)\u001b[0m\u001b[1;33m\u001b[0m\u001b[0m\n\u001b[0;32m     37\u001b[0m \u001b[1;33m\u001b[0m\u001b[0m\n",
      "\u001b[1;31mKeyboardInterrupt\u001b[0m: "
     ]
    }
   ],
   "source": [
    "es = Elasticsearch([{'host' : '127.0.0.1', 'port':9200}])\n",
    "executa_gerador(es)\n"
   ]
  },
  {
   "cell_type": "code",
   "execution_count": null,
   "metadata": {},
   "outputs": [],
   "source": []
  }
 ],
 "metadata": {
  "kernelspec": {
   "display_name": "Python 2",
   "language": "python",
   "name": "python2"
  },
  "language_info": {
   "codemirror_mode": {
    "name": "ipython",
    "version": 2
   },
   "file_extension": ".py",
   "mimetype": "text/x-python",
   "name": "python",
   "nbconvert_exporter": "python",
   "pygments_lexer": "ipython2",
   "version": "2.7.15"
  }
 },
 "nbformat": 4,
 "nbformat_minor": 2
}
